{
 "cells": [
  {
   "cell_type": "markdown",
   "id": "ad443ffa",
   "metadata": {},
   "source": [
    "## 서울시 서대문구에서 치킨집이 가장 많은 동은?"
   ]
  },
  {
   "cell_type": "markdown",
   "id": "f1413496",
   "metadata": {},
   "source": [
    "### 자료 출처\n",
    "- 데이터 다운로드 : LOCALDATA 웹 사이트 \n",
    "- http://www.localdata.kr/\n",
    "- 지방자치단체에서 인/허가한 업종별 데이터 제공\n",
    "- 문화, 체육, 관광, 식품 등 11가지 분야에 걸쳐 다양한 데이터 검색 가능\n",
    "- 회원 가입 절차를 별도로 거치지 않고도 공공데이터 다운로드 할 수 있음\n"
   ]
  },
  {
   "cell_type": "code",
   "execution_count": 1,
   "id": "3655b98e",
   "metadata": {},
   "outputs": [],
   "source": [
    "# 필요 모듈 import \n",
    "import pandas as pd \n",
    "import numpy as np\n",
    "import matplotlib.pyplot as plt #그래프 패키지 모듈 등록\n",
    "%matplotlib inline\n"
   ]
  },
  {
   "cell_type": "code",
   "execution_count": 2,
   "id": "76c9a1ac",
   "metadata": {},
   "outputs": [],
   "source": [
    "# 한글 문제\n",
    "# matplotlit의 기본 폰트에서 한글 지원되지 않기 때문에\n",
    "# matplotlib의 폰트 변경 필요\n",
    "import platform\n",
    "\n",
    "from matplotlib import font_manager, rc\n",
    "plt.rcParams['axes.unicode_minus'] = False\n",
    "\n",
    "if platform.system() == 'Darwin':  # 맥OS \n",
    "    rc('font', family='AppleGothic')\n",
    "elif platform.system() == 'Windows':  # 윈도우\n",
    "    path = \"c:/Windows/Fonts/malgun.ttf\"\n",
    "    font_name = font_manager.FontProperties(fname=path).get_name()\n",
    "    rc('font', family=font_name)\n",
    "else:\n",
    "    print('Unknown system...  sorry~~~')\n"
   ]
  },
  {
   "cell_type": "markdown",
   "id": "791ad68b",
   "metadata": {},
   "source": [
    "- UnicodeDecodeError: 'utf-8' codec can't decode byte 0xb9 in position 1: invalid start byte\n",
    "\n",
    "- 한글처리 방식 (cp949)\n",
    "\n",
    "-  DtypeWarning: Columns (22,27,39,41,44,45) have mixed types. Specify dtype option on import or set low_memory=False."
   ]
  },
  {
   "cell_type": "code",
   "execution_count": 3,
   "id": "3a43c55e",
   "metadata": {},
   "outputs": [],
   "source": [
    "# 데이터 읽어오기\n",
    "data = pd.read_csv('./Data/서울특별시_일반음식점.csv',encoding = 'cp949',low_memory=False)"
   ]
  },
  {
   "cell_type": "code",
   "execution_count": 4,
   "id": "594b0fec",
   "metadata": {},
   "outputs": [
    {
     "data": {
      "text/html": [
       "<div>\n",
       "<style scoped>\n",
       "    .dataframe tbody tr th:only-of-type {\n",
       "        vertical-align: middle;\n",
       "    }\n",
       "\n",
       "    .dataframe tbody tr th {\n",
       "        vertical-align: top;\n",
       "    }\n",
       "\n",
       "    .dataframe thead th {\n",
       "        text-align: right;\n",
       "    }\n",
       "</style>\n",
       "<table border=\"1\" class=\"dataframe\">\n",
       "  <thead>\n",
       "    <tr style=\"text-align: right;\">\n",
       "      <th></th>\n",
       "      <th>번호</th>\n",
       "      <th>개방서비스명</th>\n",
       "      <th>개방서비스아이디</th>\n",
       "      <th>개방자치단체코드</th>\n",
       "      <th>관리번호</th>\n",
       "      <th>인허가일자</th>\n",
       "      <th>인허가취소일자</th>\n",
       "      <th>영업상태구분코드</th>\n",
       "      <th>영업상태명</th>\n",
       "      <th>상세영업상태코드</th>\n",
       "      <th>...</th>\n",
       "      <th>공장생산직종업원수</th>\n",
       "      <th>건물소유구분명</th>\n",
       "      <th>보증액</th>\n",
       "      <th>월세액</th>\n",
       "      <th>다중이용업소여부</th>\n",
       "      <th>시설총규모</th>\n",
       "      <th>전통업소지정번호</th>\n",
       "      <th>전통업소주된음식</th>\n",
       "      <th>홈페이지</th>\n",
       "      <th>Unnamed: 47</th>\n",
       "    </tr>\n",
       "  </thead>\n",
       "  <tbody>\n",
       "    <tr>\n",
       "      <th>472913</th>\n",
       "      <td>472914</td>\n",
       "      <td>일반음식점</td>\n",
       "      <td>07_24_04_P</td>\n",
       "      <td>3150000</td>\n",
       "      <td>3150000-101-2021-00072</td>\n",
       "      <td>20210203</td>\n",
       "      <td>NaN</td>\n",
       "      <td>3</td>\n",
       "      <td>폐업</td>\n",
       "      <td>2</td>\n",
       "      <td>...</td>\n",
       "      <td>0.0</td>\n",
       "      <td>NaN</td>\n",
       "      <td>0.0</td>\n",
       "      <td>0</td>\n",
       "      <td>N</td>\n",
       "      <td>75.60</td>\n",
       "      <td>NaN</td>\n",
       "      <td>NaN</td>\n",
       "      <td>NaN</td>\n",
       "      <td>NaN</td>\n",
       "    </tr>\n",
       "    <tr>\n",
       "      <th>472914</th>\n",
       "      <td>472915</td>\n",
       "      <td>일반음식점</td>\n",
       "      <td>07_24_04_P</td>\n",
       "      <td>3130000</td>\n",
       "      <td>3130000-101-2020-01013</td>\n",
       "      <td>20201208</td>\n",
       "      <td>NaN</td>\n",
       "      <td>3</td>\n",
       "      <td>폐업</td>\n",
       "      <td>2</td>\n",
       "      <td>...</td>\n",
       "      <td>0.0</td>\n",
       "      <td>NaN</td>\n",
       "      <td>0.0</td>\n",
       "      <td>0</td>\n",
       "      <td>N</td>\n",
       "      <td>22.75</td>\n",
       "      <td>NaN</td>\n",
       "      <td>NaN</td>\n",
       "      <td>NaN</td>\n",
       "      <td>NaN</td>\n",
       "    </tr>\n",
       "  </tbody>\n",
       "</table>\n",
       "<p>2 rows × 48 columns</p>\n",
       "</div>"
      ],
      "text/plain": [
       "            번호 개방서비스명    개방서비스아이디  개방자치단체코드                    관리번호     인허가일자  \\\n",
       "472913  472914  일반음식점  07_24_04_P   3150000  3150000-101-2021-00072  20210203   \n",
       "472914  472915  일반음식점  07_24_04_P   3130000  3130000-101-2020-01013  20201208   \n",
       "\n",
       "        인허가취소일자  영업상태구분코드 영업상태명  상세영업상태코드  ... 공장생산직종업원수  건물소유구분명  보증액  월세액  \\\n",
       "472913      NaN         3    폐업         2  ...       0.0      NaN  0.0    0   \n",
       "472914      NaN         3    폐업         2  ...       0.0      NaN  0.0    0   \n",
       "\n",
       "        다중이용업소여부  시설총규모 전통업소지정번호  전통업소주된음식 홈페이지 Unnamed: 47  \n",
       "472913         N  75.60      NaN       NaN  NaN         NaN  \n",
       "472914         N  22.75      NaN       NaN  NaN         NaN  \n",
       "\n",
       "[2 rows x 48 columns]"
      ]
     },
     "execution_count": 4,
     "metadata": {},
     "output_type": "execute_result"
    }
   ],
   "source": [
    "data.head(2)\n",
    "data.tail(2)"
   ]
  },
  {
   "cell_type": "code",
   "execution_count": 5,
   "id": "faa6e48c",
   "metadata": {},
   "outputs": [
    {
     "name": "stdout",
     "output_type": "stream",
     "text": [
      "<class 'pandas.core.frame.DataFrame'>\n",
      "RangeIndex: 472915 entries, 0 to 472914\n",
      "Data columns (total 48 columns):\n",
      " #   Column       Non-Null Count   Dtype  \n",
      "---  ------       --------------   -----  \n",
      " 0   번호           472915 non-null  int64  \n",
      " 1   개방서비스명       472915 non-null  object \n",
      " 2   개방서비스아이디     472915 non-null  object \n",
      " 3   개방자치단체코드     472915 non-null  int64  \n",
      " 4   관리번호         472915 non-null  object \n",
      " 5   인허가일자        472915 non-null  int64  \n",
      " 6   인허가취소일자      0 non-null       float64\n",
      " 7   영업상태구분코드     472915 non-null  int64  \n",
      " 8   영업상태명        472915 non-null  object \n",
      " 9   상세영업상태코드     472915 non-null  int64  \n",
      " 10  상세영업상태명      472915 non-null  object \n",
      " 11  폐업일자         348707 non-null  float64\n",
      " 12  휴업시작일자       0 non-null       float64\n",
      " 13  휴업종료일자       0 non-null       float64\n",
      " 14  재개업일자        0 non-null       float64\n",
      " 15  소재지전화        327325 non-null  object \n",
      " 16  소재지면적        439015 non-null  object \n",
      " 17  소재지우편번호      472670 non-null  float64\n",
      " 18  소재지전체주소      472678 non-null  object \n",
      " 19  도로명전체주소      223302 non-null  object \n",
      " 20  도로명우편번호      219658 non-null  float64\n",
      " 21  사업장명         472914 non-null  object \n",
      " 22  최종수정시점       472915 non-null  object \n",
      " 23  데이터갱신구분      472915 non-null  object \n",
      " 24  데이터갱신일자      472915 non-null  object \n",
      " 25  업태구분명        472894 non-null  object \n",
      " 26  좌표정보(x)      448086 non-null  float64\n",
      " 27  좌표정보(y)      448086 non-null  object \n",
      " 28  위생업태명        472887 non-null  object \n",
      " 29  남성종사자수       303104 non-null  float64\n",
      " 30  여성종사자수       305258 non-null  float64\n",
      " 31  영업장주변구분명     251574 non-null  object \n",
      " 32  등급구분명        241826 non-null  object \n",
      " 33  급수시설구분명      310208 non-null  object \n",
      " 34  총종업원수        45438 non-null   float64\n",
      " 35  본사종업원수       45531 non-null   float64\n",
      " 36  공장사무직종업원수    45530 non-null   float64\n",
      " 37  공장판매직종업원수    45530 non-null   float64\n",
      " 38  공장생산직종업원수    45530 non-null   float64\n",
      " 39  건물소유구분명      1 non-null       object \n",
      " 40  보증액          45531 non-null   float64\n",
      " 41  월세액          45532 non-null   object \n",
      " 42  다중이용업소여부     472908 non-null  object \n",
      " 43  시설총규모        472908 non-null  float64\n",
      " 44  전통업소지정번호     1729 non-null    object \n",
      " 45  전통업소주된음식     912 non-null     object \n",
      " 46  홈페이지         0 non-null       float64\n",
      " 47  Unnamed: 47  0 non-null       float64\n",
      "dtypes: float64(19), int64(5), object(24)\n",
      "memory usage: 173.2+ MB\n"
     ]
    }
   ],
   "source": [
    "# 데이터 개요 확인\n",
    "data.info()"
   ]
  },
  {
   "cell_type": "code",
   "execution_count": 6,
   "id": "484dc02f",
   "metadata": {},
   "outputs": [
    {
     "data": {
      "text/plain": [
       "0         False\n",
       "1         False\n",
       "2         False\n",
       "3         False\n",
       "4         False\n",
       "          ...  \n",
       "472910    False\n",
       "472911    False\n",
       "472912    False\n",
       "472913    False\n",
       "472914    False\n",
       "Name: 위생업태명, Length: 472915, dtype: bool"
      ]
     },
     "execution_count": 6,
     "metadata": {},
     "output_type": "execute_result"
    }
   ],
   "source": [
    "# 문자열.contains(문자열1) - 문자열안에 문자열1이 포함되어 있는지의 여부\n",
    "# 문자열이 아닌 nan에 대입하면 에러 발생 할 수 있으므로 na = False 파라미터 설정해야 함\n",
    "\n",
    "data.위생업태명.str.contains('통닭|치킨', na = False)"
   ]
  },
  {
   "cell_type": "code",
   "execution_count": 7,
   "id": "a448ed33",
   "metadata": {},
   "outputs": [
    {
     "data": {
      "text/plain": [
       "{'통닭(치킨)', '호프/통닭'}"
      ]
     },
     "execution_count": 7,
     "metadata": {},
     "output_type": "execute_result"
    }
   ],
   "source": [
    "# 필요한 컬럼만 추출 \n",
    "# set --> 집합 자료형을 처리하는 함수, 2개 이상 동일한 데이터 있으면 1개만 \n",
    "set(data.위생업태명.values)\n",
    "set(data.위생업태명[data.위생업태명.str.contains('통닭|치킨', na = False)])"
   ]
  },
  {
   "cell_type": "code",
   "execution_count": 8,
   "id": "c4b806ba",
   "metadata": {},
   "outputs": [
    {
     "data": {
      "text/plain": [
       "{'영업/정상', '폐업'}"
      ]
     },
     "execution_count": 8,
     "metadata": {},
     "output_type": "execute_result"
    }
   ],
   "source": [
    "# 현재 영업중인 경우 영업상태명 확인\n",
    "\n",
    "set(data.영업상태명)"
   ]
  },
  {
   "cell_type": "code",
   "execution_count": 9,
   "id": "56691acb",
   "metadata": {},
   "outputs": [
    {
     "data": {
      "text/plain": [
       "0         False\n",
       "1         False\n",
       "2         False\n",
       "3         False\n",
       "4         False\n",
       "          ...  \n",
       "472910    False\n",
       "472911    False\n",
       "472912    False\n",
       "472913    False\n",
       "472914    False\n",
       "Length: 472915, dtype: bool"
      ]
     },
     "execution_count": 9,
     "metadata": {},
     "output_type": "execute_result"
    }
   ],
   "source": [
    "# 영업상태명이 영업/정상 이고 위생업태명이 {'통닭(치킨)' 이거나 '호프/통닭'} \n",
    "# 인 data를 추출 (조건 인덱싱)\n",
    "\n",
    "# 시리즈 함수 .isin([데이터1,데이터2...]) \n",
    "# 시리즈 원소가 []안의 데이터 1개와 일치하면 True\n",
    "(data.영업상태명=='영업/정상') & data.위생업태명.isin(['호프/통닭','통닭(치킨)'])"
   ]
  },
  {
   "cell_type": "code",
   "execution_count": 10,
   "id": "2632b8b0",
   "metadata": {},
   "outputs": [],
   "source": [
    "data_fin = data[(data.영업상태명=='영업/정상') & data.위생업태명.isin(['호프/통닭','통닭(치킨)'])]"
   ]
  },
  {
   "cell_type": "code",
   "execution_count": 11,
   "id": "d22a23d4",
   "metadata": {},
   "outputs": [
    {
     "data": {
      "text/html": [
       "<div>\n",
       "<style scoped>\n",
       "    .dataframe tbody tr th:only-of-type {\n",
       "        vertical-align: middle;\n",
       "    }\n",
       "\n",
       "    .dataframe tbody tr th {\n",
       "        vertical-align: top;\n",
       "    }\n",
       "\n",
       "    .dataframe thead th {\n",
       "        text-align: right;\n",
       "    }\n",
       "</style>\n",
       "<table border=\"1\" class=\"dataframe\">\n",
       "  <thead>\n",
       "    <tr style=\"text-align: right;\">\n",
       "      <th></th>\n",
       "      <th>번호</th>\n",
       "      <th>개방서비스명</th>\n",
       "      <th>개방서비스아이디</th>\n",
       "      <th>개방자치단체코드</th>\n",
       "      <th>관리번호</th>\n",
       "      <th>인허가일자</th>\n",
       "      <th>인허가취소일자</th>\n",
       "      <th>영업상태구분코드</th>\n",
       "      <th>영업상태명</th>\n",
       "      <th>상세영업상태코드</th>\n",
       "      <th>...</th>\n",
       "      <th>공장생산직종업원수</th>\n",
       "      <th>건물소유구분명</th>\n",
       "      <th>보증액</th>\n",
       "      <th>월세액</th>\n",
       "      <th>다중이용업소여부</th>\n",
       "      <th>시설총규모</th>\n",
       "      <th>전통업소지정번호</th>\n",
       "      <th>전통업소주된음식</th>\n",
       "      <th>홈페이지</th>\n",
       "      <th>Unnamed: 47</th>\n",
       "    </tr>\n",
       "  </thead>\n",
       "  <tbody>\n",
       "    <tr>\n",
       "      <th>124130</th>\n",
       "      <td>124131</td>\n",
       "      <td>일반음식점</td>\n",
       "      <td>07_24_04_P</td>\n",
       "      <td>3120000</td>\n",
       "      <td>3120000-101-2021-00031</td>\n",
       "      <td>20210122</td>\n",
       "      <td>NaN</td>\n",
       "      <td>1</td>\n",
       "      <td>영업/정상</td>\n",
       "      <td>1</td>\n",
       "      <td>...</td>\n",
       "      <td>NaN</td>\n",
       "      <td>NaN</td>\n",
       "      <td>NaN</td>\n",
       "      <td>NaN</td>\n",
       "      <td>N</td>\n",
       "      <td>49.34</td>\n",
       "      <td>NaN</td>\n",
       "      <td>NaN</td>\n",
       "      <td>NaN</td>\n",
       "      <td>NaN</td>\n",
       "    </tr>\n",
       "    <tr>\n",
       "      <th>124151</th>\n",
       "      <td>124152</td>\n",
       "      <td>일반음식점</td>\n",
       "      <td>07_24_04_P</td>\n",
       "      <td>3160000</td>\n",
       "      <td>3160000-101-2020-00384</td>\n",
       "      <td>20201208</td>\n",
       "      <td>NaN</td>\n",
       "      <td>1</td>\n",
       "      <td>영업/정상</td>\n",
       "      <td>1</td>\n",
       "      <td>...</td>\n",
       "      <td>NaN</td>\n",
       "      <td>NaN</td>\n",
       "      <td>NaN</td>\n",
       "      <td>NaN</td>\n",
       "      <td>N</td>\n",
       "      <td>33.00</td>\n",
       "      <td>NaN</td>\n",
       "      <td>NaN</td>\n",
       "      <td>NaN</td>\n",
       "      <td>NaN</td>\n",
       "    </tr>\n",
       "    <tr>\n",
       "      <th>124171</th>\n",
       "      <td>124172</td>\n",
       "      <td>일반음식점</td>\n",
       "      <td>07_24_04_P</td>\n",
       "      <td>3200000</td>\n",
       "      <td>3200000-101-2020-00626</td>\n",
       "      <td>20201209</td>\n",
       "      <td>NaN</td>\n",
       "      <td>1</td>\n",
       "      <td>영업/정상</td>\n",
       "      <td>1</td>\n",
       "      <td>...</td>\n",
       "      <td>NaN</td>\n",
       "      <td>NaN</td>\n",
       "      <td>NaN</td>\n",
       "      <td>NaN</td>\n",
       "      <td>N</td>\n",
       "      <td>62.80</td>\n",
       "      <td>NaN</td>\n",
       "      <td>NaN</td>\n",
       "      <td>NaN</td>\n",
       "      <td>NaN</td>\n",
       "    </tr>\n",
       "    <tr>\n",
       "      <th>124193</th>\n",
       "      <td>124194</td>\n",
       "      <td>일반음식점</td>\n",
       "      <td>07_24_04_P</td>\n",
       "      <td>3060000</td>\n",
       "      <td>3060000-101-2021-00028</td>\n",
       "      <td>20210203</td>\n",
       "      <td>NaN</td>\n",
       "      <td>1</td>\n",
       "      <td>영업/정상</td>\n",
       "      <td>1</td>\n",
       "      <td>...</td>\n",
       "      <td>NaN</td>\n",
       "      <td>NaN</td>\n",
       "      <td>NaN</td>\n",
       "      <td>NaN</td>\n",
       "      <td>N</td>\n",
       "      <td>53.84</td>\n",
       "      <td>NaN</td>\n",
       "      <td>NaN</td>\n",
       "      <td>NaN</td>\n",
       "      <td>NaN</td>\n",
       "    </tr>\n",
       "    <tr>\n",
       "      <th>124203</th>\n",
       "      <td>124204</td>\n",
       "      <td>일반음식점</td>\n",
       "      <td>07_24_04_P</td>\n",
       "      <td>3080000</td>\n",
       "      <td>3080000-101-2021-00015</td>\n",
       "      <td>20210122</td>\n",
       "      <td>NaN</td>\n",
       "      <td>1</td>\n",
       "      <td>영업/정상</td>\n",
       "      <td>1</td>\n",
       "      <td>...</td>\n",
       "      <td>NaN</td>\n",
       "      <td>NaN</td>\n",
       "      <td>NaN</td>\n",
       "      <td>NaN</td>\n",
       "      <td>N</td>\n",
       "      <td>40.00</td>\n",
       "      <td>NaN</td>\n",
       "      <td>NaN</td>\n",
       "      <td>NaN</td>\n",
       "      <td>NaN</td>\n",
       "    </tr>\n",
       "  </tbody>\n",
       "</table>\n",
       "<p>5 rows × 48 columns</p>\n",
       "</div>"
      ],
      "text/plain": [
       "            번호 개방서비스명    개방서비스아이디  개방자치단체코드                    관리번호     인허가일자  \\\n",
       "124130  124131  일반음식점  07_24_04_P   3120000  3120000-101-2021-00031  20210122   \n",
       "124151  124152  일반음식점  07_24_04_P   3160000  3160000-101-2020-00384  20201208   \n",
       "124171  124172  일반음식점  07_24_04_P   3200000  3200000-101-2020-00626  20201209   \n",
       "124193  124194  일반음식점  07_24_04_P   3060000  3060000-101-2021-00028  20210203   \n",
       "124203  124204  일반음식점  07_24_04_P   3080000  3080000-101-2021-00015  20210122   \n",
       "\n",
       "        인허가취소일자  영업상태구분코드  영업상태명  상세영업상태코드  ... 공장생산직종업원수  건물소유구분명  보증액  월세액  \\\n",
       "124130      NaN         1  영업/정상         1  ...       NaN      NaN  NaN  NaN   \n",
       "124151      NaN         1  영업/정상         1  ...       NaN      NaN  NaN  NaN   \n",
       "124171      NaN         1  영업/정상         1  ...       NaN      NaN  NaN  NaN   \n",
       "124193      NaN         1  영업/정상         1  ...       NaN      NaN  NaN  NaN   \n",
       "124203      NaN         1  영업/정상         1  ...       NaN      NaN  NaN  NaN   \n",
       "\n",
       "        다중이용업소여부  시설총규모 전통업소지정번호  전통업소주된음식 홈페이지 Unnamed: 47  \n",
       "124130         N  49.34      NaN       NaN  NaN         NaN  \n",
       "124151         N  33.00      NaN       NaN  NaN         NaN  \n",
       "124171         N  62.80      NaN       NaN  NaN         NaN  \n",
       "124193         N  53.84      NaN       NaN  NaN         NaN  \n",
       "124203         N  40.00      NaN       NaN  NaN         NaN  \n",
       "\n",
       "[5 rows x 48 columns]"
      ]
     },
     "execution_count": 11,
     "metadata": {},
     "output_type": "execute_result"
    }
   ],
   "source": [
    "data_fin.head()\n",
    "data_fin.tail()"
   ]
  },
  {
   "cell_type": "code",
   "execution_count": 12,
   "id": "34d64172",
   "metadata": {},
   "outputs": [
    {
     "data": {
      "text/plain": [
       "{'통닭(치킨)', '호프/통닭'}"
      ]
     },
     "execution_count": 12,
     "metadata": {},
     "output_type": "execute_result"
    }
   ],
   "source": [
    "# 위생업태명 확인 \n",
    "data_fin.위생업태명.head()\n",
    "set(data_fin.위생업태명)"
   ]
  },
  {
   "cell_type": "code",
   "execution_count": 13,
   "id": "0bcccf77",
   "metadata": {},
   "outputs": [
    {
     "name": "stdout",
     "output_type": "stream",
     "text": [
      "<class 'pandas.core.frame.DataFrame'>\n",
      "Int64Index: 13110 entries, 30 to 124203\n",
      "Data columns (total 48 columns):\n",
      " #   Column       Non-Null Count  Dtype  \n",
      "---  ------       --------------  -----  \n",
      " 0   번호           13110 non-null  int64  \n",
      " 1   개방서비스명       13110 non-null  object \n",
      " 2   개방서비스아이디     13110 non-null  object \n",
      " 3   개방자치단체코드     13110 non-null  int64  \n",
      " 4   관리번호         13110 non-null  object \n",
      " 5   인허가일자        13110 non-null  int64  \n",
      " 6   인허가취소일자      0 non-null      float64\n",
      " 7   영업상태구분코드     13110 non-null  int64  \n",
      " 8   영업상태명        13110 non-null  object \n",
      " 9   상세영업상태코드     13110 non-null  int64  \n",
      " 10  상세영업상태명      13110 non-null  object \n",
      " 11  폐업일자         0 non-null      float64\n",
      " 12  휴업시작일자       0 non-null      float64\n",
      " 13  휴업종료일자       0 non-null      float64\n",
      " 14  재개업일자        0 non-null      float64\n",
      " 15  소재지전화        6536 non-null   object \n",
      " 16  소재지면적        12677 non-null  object \n",
      " 17  소재지우편번호      13103 non-null  float64\n",
      " 18  소재지전체주소      13103 non-null  object \n",
      " 19  도로명전체주소      12970 non-null  object \n",
      " 20  도로명우편번호      12884 non-null  float64\n",
      " 21  사업장명         13110 non-null  object \n",
      " 22  최종수정시점       13110 non-null  object \n",
      " 23  데이터갱신구분      13110 non-null  object \n",
      " 24  데이터갱신일자      13110 non-null  object \n",
      " 25  업태구분명        13110 non-null  object \n",
      " 26  좌표정보(x)      13020 non-null  float64\n",
      " 27  좌표정보(y)      13020 non-null  object \n",
      " 28  위생업태명        13110 non-null  object \n",
      " 29  남성종사자수       5733 non-null   float64\n",
      " 30  여성종사자수       5750 non-null   float64\n",
      " 31  영업장주변구분명     3363 non-null   object \n",
      " 32  등급구분명        3005 non-null   object \n",
      " 33  급수시설구분명      6287 non-null   object \n",
      " 34  총종업원수        1773 non-null   float64\n",
      " 35  본사종업원수       1777 non-null   float64\n",
      " 36  공장사무직종업원수    1777 non-null   float64\n",
      " 37  공장판매직종업원수    1777 non-null   float64\n",
      " 38  공장생산직종업원수    1777 non-null   float64\n",
      " 39  건물소유구분명      1 non-null      object \n",
      " 40  보증액          1777 non-null   float64\n",
      " 41  월세액          1777 non-null   object \n",
      " 42  다중이용업소여부     13110 non-null  object \n",
      " 43  시설총규모        13110 non-null  float64\n",
      " 44  전통업소지정번호     6 non-null      object \n",
      " 45  전통업소주된음식     2 non-null      object \n",
      " 46  홈페이지         0 non-null      float64\n",
      " 47  Unnamed: 47  0 non-null      float64\n",
      "dtypes: float64(19), int64(5), object(24)\n",
      "memory usage: 4.9+ MB\n"
     ]
    }
   ],
   "source": [
    "data_fin.info()"
   ]
  },
  {
   "cell_type": "code",
   "execution_count": 14,
   "id": "55f1e38c",
   "metadata": {},
   "outputs": [
    {
     "data": {
      "text/html": [
       "<div>\n",
       "<style scoped>\n",
       "    .dataframe tbody tr th:only-of-type {\n",
       "        vertical-align: middle;\n",
       "    }\n",
       "\n",
       "    .dataframe tbody tr th {\n",
       "        vertical-align: top;\n",
       "    }\n",
       "\n",
       "    .dataframe thead th {\n",
       "        text-align: right;\n",
       "    }\n",
       "</style>\n",
       "<table border=\"1\" class=\"dataframe\">\n",
       "  <thead>\n",
       "    <tr style=\"text-align: right;\">\n",
       "      <th></th>\n",
       "      <th>소재지전체주소</th>\n",
       "      <th>위생업태명</th>\n",
       "    </tr>\n",
       "  </thead>\n",
       "  <tbody>\n",
       "    <tr>\n",
       "      <th>30</th>\n",
       "      <td>서울특별시 은평구 갈현동 400-9번지 (지하1층)</td>\n",
       "      <td>호프/통닭</td>\n",
       "    </tr>\n",
       "    <tr>\n",
       "      <th>43</th>\n",
       "      <td>서울특별시 영등포구 양평동3가 101번지 현대아파트 상가내 1층 102호</td>\n",
       "      <td>호프/통닭</td>\n",
       "    </tr>\n",
       "    <tr>\n",
       "      <th>44</th>\n",
       "      <td>서울특별시 중구 필동2가 32-24번지 1층</td>\n",
       "      <td>호프/통닭</td>\n",
       "    </tr>\n",
       "    <tr>\n",
       "      <th>66</th>\n",
       "      <td>서울특별시 종로구 당주동 128-17번지 (지상1층)</td>\n",
       "      <td>호프/통닭</td>\n",
       "    </tr>\n",
       "    <tr>\n",
       "      <th>67</th>\n",
       "      <td>서울특별시 서초구 우면동 59번지 105호</td>\n",
       "      <td>호프/통닭</td>\n",
       "    </tr>\n",
       "  </tbody>\n",
       "</table>\n",
       "</div>"
      ],
      "text/plain": [
       "                                     소재지전체주소  위생업태명\n",
       "30              서울특별시 은평구 갈현동 400-9번지 (지하1층)  호프/통닭\n",
       "43  서울특별시 영등포구 양평동3가 101번지 현대아파트 상가내 1층 102호  호프/통닭\n",
       "44                  서울특별시 중구 필동2가 32-24번지 1층  호프/통닭\n",
       "66             서울특별시 종로구 당주동 128-17번지 (지상1층)  호프/통닭\n",
       "67                   서울특별시 서초구 우면동 59번지 105호  호프/통닭"
      ]
     },
     "execution_count": 14,
     "metadata": {},
     "output_type": "execute_result"
    }
   ],
   "source": [
    "# 서대문구 데이터만 추출\n",
    "# 서대문구 각 동에 치킨집이 몇개나 있나?\n",
    "# 필요 컬럼(소재지 전체 주소, 위생업태명)\n",
    "\n",
    "data_fin = data_fin[['소재지전체주소','위생업태명']]\n",
    "data_fin.head()\n",
    "# data_fin df는 서울시 치킨집 주소 "
   ]
  },
  {
   "cell_type": "code",
   "execution_count": 15,
   "id": "4368418b",
   "metadata": {},
   "outputs": [
    {
     "data": {
      "text/plain": [
       "30        False\n",
       "43        False\n",
       "44        False\n",
       "66        False\n",
       "67        False\n",
       "          ...  \n",
       "124130     True\n",
       "124151    False\n",
       "124171    False\n",
       "124193    False\n",
       "124203    False\n",
       "Name: 소재지전체주소, Length: 13110, dtype: bool"
      ]
     },
     "execution_count": 15,
     "metadata": {},
     "output_type": "execute_result"
    }
   ],
   "source": [
    "# 서대문구 데이터만 추출 \n",
    "# 주소에 서대문구가 포함된 행만 추출\n",
    "\n",
    "res = data_fin.소재지전체주소.str.contains('서대문구',na = False)\n",
    "res"
   ]
  },
  {
   "cell_type": "code",
   "execution_count": 16,
   "id": "ac0937c2",
   "metadata": {},
   "outputs": [
    {
     "data": {
      "text/html": [
       "<div>\n",
       "<style scoped>\n",
       "    .dataframe tbody tr th:only-of-type {\n",
       "        vertical-align: middle;\n",
       "    }\n",
       "\n",
       "    .dataframe tbody tr th {\n",
       "        vertical-align: top;\n",
       "    }\n",
       "\n",
       "    .dataframe thead th {\n",
       "        text-align: right;\n",
       "    }\n",
       "</style>\n",
       "<table border=\"1\" class=\"dataframe\">\n",
       "  <thead>\n",
       "    <tr style=\"text-align: right;\">\n",
       "      <th></th>\n",
       "      <th>소재지전체주소</th>\n",
       "      <th>위생업태명</th>\n",
       "    </tr>\n",
       "  </thead>\n",
       "  <tbody>\n",
       "    <tr>\n",
       "      <th>178</th>\n",
       "      <td>서울특별시 서대문구 창천동 33-25번지</td>\n",
       "      <td>통닭(치킨)</td>\n",
       "    </tr>\n",
       "    <tr>\n",
       "      <th>698</th>\n",
       "      <td>서울특별시 서대문구 홍제동 459 현대종합상가</td>\n",
       "      <td>호프/통닭</td>\n",
       "    </tr>\n",
       "    <tr>\n",
       "      <th>724</th>\n",
       "      <td>서울특별시 서대문구 남가좌동 347-20번지</td>\n",
       "      <td>호프/통닭</td>\n",
       "    </tr>\n",
       "    <tr>\n",
       "      <th>1200</th>\n",
       "      <td>서울특별시 서대문구 연희동 131-1번지 사러가쇼핑</td>\n",
       "      <td>호프/통닭</td>\n",
       "    </tr>\n",
       "    <tr>\n",
       "      <th>1405</th>\n",
       "      <td>서울특별시 서대문구 창천동 52-14</td>\n",
       "      <td>호프/통닭</td>\n",
       "    </tr>\n",
       "  </tbody>\n",
       "</table>\n",
       "</div>"
      ],
      "text/plain": [
       "                           소재지전체주소   위생업태명\n",
       "178         서울특별시 서대문구 창천동 33-25번지  통닭(치킨)\n",
       "698      서울특별시 서대문구 홍제동 459 현대종합상가   호프/통닭\n",
       "724       서울특별시 서대문구 남가좌동 347-20번지   호프/통닭\n",
       "1200  서울특별시 서대문구 연희동 131-1번지 사러가쇼핑   호프/통닭\n",
       "1405          서울특별시 서대문구 창천동 52-14   호프/통닭"
      ]
     },
     "execution_count": 16,
     "metadata": {},
     "output_type": "execute_result"
    }
   ],
   "source": [
    "# 서대문구 치킨집 주소 df\n",
    "data_seo = data_fin[res]\n",
    "data_seo.head()"
   ]
  },
  {
   "cell_type": "code",
   "execution_count": 17,
   "id": "5b366e3a",
   "metadata": {},
   "outputs": [
    {
     "data": {
      "text/plain": [
       "178       창천동 33\n",
       "698       홍제동 45\n",
       "724       남가좌동 3\n",
       "1200      연희동 13\n",
       "1405      창천동 52\n",
       "           ...  \n",
       "122500    남가좌동 3\n",
       "123490    홍제동 30\n",
       "123548    홍제동 96\n",
       "123724    북아현동 1\n",
       "124130    남가좌동 3\n",
       "Name: 소재지전체주소, Length: 400, dtype: object"
      ]
     },
     "execution_count": 17,
     "metadata": {},
     "output_type": "execute_result"
    }
   ],
   "source": [
    "# 소재지전체주소 열에서 XXX동만 남기고 이후 상세 주소는 삭제\n",
    "# 모든 데이터가 서대문구 이므로 동데이터만 남김\n",
    "# 일부 글자만 추출하는 str.slice() 함수 사용\n",
    "# '서울특별시 서대문구 ' 다음 글자에서 'xxx동'까지 추출\n",
    "# 11번째 글자에서 16번째 글자까지 추출\n",
    "\n",
    "addr = data_seo.소재지전체주소.str.slice(start = 11, stop = 17)\n",
    "addr\n"
   ]
  },
  {
   "cell_type": "code",
   "execution_count": 18,
   "id": "eaace76c",
   "metadata": {},
   "outputs": [
    {
     "name": "stderr",
     "output_type": "stream",
     "text": [
      "C:\\Users\\sikim\\AppData\\Local\\Temp/ipykernel_6136/496192789.py:2: FutureWarning: The default value of regex will change from True to False in a future version.\n",
      "  addr = addr.str.replace('[0-9]','') # 숫자를 ''로 바꿔버리기\n"
     ]
    },
    {
     "data": {
      "text/plain": [
       "178        창천동 \n",
       "698        홍제동 \n",
       "724       남가좌동 \n",
       "1200       연희동 \n",
       "1405       창천동 \n",
       "          ...  \n",
       "122500    남가좌동 \n",
       "123490     홍제동 \n",
       "123548     홍제동 \n",
       "123724    북아현동 \n",
       "124130    남가좌동 \n",
       "Name: 소재지전체주소, Length: 400, dtype: object"
      ]
     },
     "execution_count": 18,
     "metadata": {},
     "output_type": "execute_result"
    }
   ],
   "source": [
    "# 동 뒤에 나온 숫자 제거 \n",
    "addr = addr.str.replace('[0-9]','') # 숫자를 ''로 바꿔버리기 \n",
    "addr"
   ]
  },
  {
   "cell_type": "code",
   "execution_count": 19,
   "id": "f9eef759",
   "metadata": {},
   "outputs": [
    {
     "data": {
      "text/plain": [
       "178        창천동\n",
       "698        홍제동\n",
       "724       남가좌동\n",
       "1200       연희동\n",
       "1405       창천동\n",
       "          ... \n",
       "122500    남가좌동\n",
       "123490     홍제동\n",
       "123548     홍제동\n",
       "123724    북아현동\n",
       "124130    남가좌동\n",
       "Name: 소재지전체주소, Length: 400, dtype: object"
      ]
     },
     "execution_count": 19,
     "metadata": {},
     "output_type": "execute_result"
    }
   ],
   "source": [
    "# 동 뒤에 나온 공백 제거 \n",
    "addr = addr.str.replace(' ','') # 공백을 ''로 바꿔버리기 \n",
    "addr"
   ]
  },
  {
   "cell_type": "code",
   "execution_count": 20,
   "id": "48059d4b",
   "metadata": {},
   "outputs": [
    {
     "data": {
      "text/plain": [
       "창천동     91\n",
       "북가좌동    48\n",
       "홍제동     48\n",
       "남가좌동    47\n",
       "홍은동     43\n",
       "연희동     41\n",
       "충정로가    21\n",
       "북아현동    20\n",
       "대현동     15\n",
       "냉천동     10\n",
       "미근동      6\n",
       "영천동      2\n",
       "합동       2\n",
       "천연동      2\n",
       "옥천동      2\n",
       "대신동      1\n",
       "옥천동번     1\n",
       "Name: 소재지전체주소, dtype: int64"
      ]
     },
     "execution_count": 20,
     "metadata": {},
     "output_type": "execute_result"
    }
   ],
   "source": [
    "# 동별 치킨집 개수 (동 뒤에 - 가 있음 --> 제거)\n",
    "addr.value_counts()\n",
    "\n",
    "# 동 뒤에 나온 - 제거 \n",
    "addr = addr.str.replace('-','') # -를 ''로 바꿔버리기 \n",
    "addr\n",
    "addr.value_counts()"
   ]
  },
  {
   "cell_type": "code",
   "execution_count": 21,
   "id": "f5f066f0",
   "metadata": {},
   "outputs": [
    {
     "data": {
      "text/plain": [
       "창천동     91\n",
       "홍제동     48\n",
       "북가좌동    48\n",
       "남가좌동    47\n",
       "홍은동     43\n",
       "연희동     41\n",
       "충정로가    21\n",
       "북아현동    20\n",
       "대현동     15\n",
       "냉천동     10\n",
       "미근동      6\n",
       "옥천동      3\n",
       "영천동      2\n",
       "합동       2\n",
       "천연동      2\n",
       "대신동      1\n",
       "Name: 소재지전체주소, dtype: int64"
      ]
     },
     "execution_count": 21,
     "metadata": {},
     "output_type": "execute_result"
    }
   ],
   "source": [
    "addr = addr.str.replace('옥천동번','옥천동') \n",
    "addr\n",
    "ck_cnt = addr.value_counts() # 데이터 전처리 완료\n",
    "ck_cnt"
   ]
  },
  {
   "cell_type": "code",
   "execution_count": 22,
   "id": "aac10694",
   "metadata": {},
   "outputs": [
    {
     "data": {
      "text/plain": [
       "창천동     91\n",
       "홍제동     48\n",
       "북가좌동    48\n",
       "남가좌동    47\n",
       "홍은동     43\n",
       "연희동     41\n",
       "충정로가    21\n",
       "북아현동    20\n",
       "대현동     15\n",
       "냉천동     10\n",
       "미근동      6\n",
       "옥천동      3\n",
       "영천동      2\n",
       "합동       2\n",
       "천연동      2\n",
       "대신동      1\n",
       "Name: 소재지전체주소, dtype: int64"
      ]
     },
     "execution_count": 22,
     "metadata": {},
     "output_type": "execute_result"
    }
   ],
   "source": [
    "ck_cnt"
   ]
  },
  {
   "cell_type": "code",
   "execution_count": 23,
   "id": "474e545e",
   "metadata": {},
   "outputs": [
    {
     "name": "stdout",
     "output_type": "stream",
     "text": [
      "Requirement already satisfied: squarify in c:\\programdata\\anaconda3\\lib\\site-packages (0.4.3)\n",
      "Note: you may need to restart the kernel to use updated packages.\n"
     ]
    },
    {
     "name": "stderr",
     "output_type": "stream",
     "text": [
      "WARNING: Ignoring invalid distribution -andas (c:\\programdata\\anaconda3\\lib\\site-packages)\n",
      "WARNING: Ignoring invalid distribution -andas (c:\\programdata\\anaconda3\\lib\\site-packages)\n",
      "WARNING: Ignoring invalid distribution -andas (c:\\programdata\\anaconda3\\lib\\site-packages)\n",
      "WARNING: Ignoring invalid distribution -andas (c:\\programdata\\anaconda3\\lib\\site-packages)\n",
      "WARNING: Ignoring invalid distribution -andas (c:\\programdata\\anaconda3\\lib\\site-packages)\n",
      "WARNING: Ignoring invalid distribution -andas (c:\\programdata\\anaconda3\\lib\\site-packages)\n"
     ]
    }
   ],
   "source": [
    "%pip install squarify "
   ]
  },
  {
   "cell_type": "code",
   "execution_count": 24,
   "id": "1b62536b",
   "metadata": {
    "scrolled": true
   },
   "outputs": [],
   "source": [
    "# 트리맵시각화\n",
    "import squarify\n"
   ]
  },
  {
   "cell_type": "code",
   "execution_count": 25,
   "id": "62e00d36",
   "metadata": {
    "scrolled": true
   },
   "outputs": [
    {
     "data": {
      "text/plain": [
       "<AxesSubplot:>"
      ]
     },
     "execution_count": 25,
     "metadata": {},
     "output_type": "execute_result"
    },
    {
     "data": {
      "image/png": "[encoded data removed]",
      "text/plain": [
       "<Figure size 432x288 with 1 Axes>"
      ]
     },
     "metadata": {
      "needs_background": "light"
     },
     "output_type": "display_data"
    }
   ],
   "source": [
    "squarify.plot(ck_cnt,label = ck_cnt.index)"
   ]
  },
  {
   "cell_type": "code",
   "execution_count": null,
   "id": "d1d796be",
   "metadata": {},
   "outputs": [],
   "source": []
  },
  {
   "cell_type": "code",
   "execution_count": null,
   "id": "beb6926d",
   "metadata": {},
   "outputs": [],
   "source": []
  },
  {
   "cell_type": "code",
   "execution_count": null,
   "id": "08a96774",
   "metadata": {},
   "outputs": [],
   "source": []
  },
  {
   "cell_type": "code",
   "execution_count": null,
   "id": "98045c42",
   "metadata": {},
   "outputs": [],
   "source": []
  }
 ],
 "metadata": {
  "kernelspec": {
   "display_name": "Python 3 (ipykernel)",
   "language": "python",
   "name": "python3"
  },
  "language_info": {
   "codemirror_mode": {
    "name": "ipython",
    "version": 3
   },
   "file_extension": ".py",
   "mimetype": "text/x-python",
   "name": "python",
   "nbconvert_exporter": "python",
   "pygments_lexer": "ipython3",
   "version": "3.9.7"
  }
 },
 "nbformat": 4,
 "nbformat_minor": 5
}
